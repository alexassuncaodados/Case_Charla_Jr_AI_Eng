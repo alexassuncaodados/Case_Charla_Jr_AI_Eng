{
 "cells": [
  {
   "cell_type": "code",
   "execution_count": 101,
   "id": "30b7c0e0",
   "metadata": {},
   "outputs": [
    {
     "data": {
      "text/plain": [
       "True"
      ]
     },
     "execution_count": 101,
     "metadata": {},
     "output_type": "execute_result"
    }
   ],
   "source": [
    "import os\n",
    "from pathlib import Path\n",
    "import json\n",
    "from dotenv import load_dotenv\n",
    "\n",
    "from google.oauth2 import service_account\n",
    "from pydantic_ai import Agent, BinaryContent\n",
    "from pydantic_ai.models.google import GoogleModel\n",
    "from pydantic_ai.providers.google import GoogleProvider\n",
    "from utils.BaseModel import ExtracaoOutput\n",
    "\n",
    "load_dotenv()"
   ]
  },
  {
   "cell_type": "code",
   "execution_count": 94,
   "id": "1158a122",
   "metadata": {},
   "outputs": [],
   "source": [
    "credenciais_caminho = os.getenv(\"GOOGLE_APPLICATION_CREDENTIALS\")\n",
    "credenciais = json.load(open(credenciais_caminho))"
   ]
  },
  {
   "cell_type": "code",
   "execution_count": 42,
   "id": "57e53abc",
   "metadata": {},
   "outputs": [
    {
     "data": {
      "text/plain": [
       "WindowsPath('NFSe.pdf')"
      ]
     },
     "execution_count": 42,
     "metadata": {},
     "output_type": "execute_result"
    }
   ],
   "source": [
    "\n",
    "nota_fiscal = Path('NFSe.pdf')\n",
    "nota_fiscal"
   ]
  },
  {
   "cell_type": "code",
   "execution_count": null,
   "id": "615e3d29",
   "metadata": {},
   "outputs": [],
   "source": [
    "credentials = service_account.Credentials.from_service_account_file(\n",
    "    credenciais_caminho,\n",
    "    scopes=['https://www.googleapis.com/auth/cloud-platform'],\n",
    ")\n",
    "provider = GoogleProvider(credentials=credentials, project=credenciais['project_id'])\n",
    "model = GoogleModel('gemini-2.5-flash', provider=provider)\n",
    "\n",
    "system_prompt= \"\"\"\n",
    "Você é um agente de IA especialista em processamento de documentos fiscais brasileiros. Sua principal tarefa é analisar o conteúdo de uma Nota Fiscal de Serviço em formato de documento (PDF), extrair informações cruciais e retorná-las em um formato estruturado, de acordo com o modelo Pydantic fornecido.\n",
    "\n",
    "**Instruções Gerais:**\n",
    "\n",
    "1.  **Entrada:** Você receberá um documento, que é uma representação de uma Nota Fiscal de Serviço. Utilize o recurso de `Document Input` para ler e interpretar diretamente o conteúdo textual do documento.\n",
    "2.  **Objetivo:** Seu objetivo é preencher de forma precisa e completa o modelo Pydantic `ExtracaoOutput` com os dados extraídos do documento.\n",
    "3.  **Contexto:** A Nota Fiscal de Serviço é um documento oficial que registra a prestação de serviços. Preste muita atenção aos seguintes campos:\n",
    "    * **Descrição do Serviço:** O detalhamento do serviço que foi executado.\n",
    "    * **Valor do Serviço:** O valor a ser pago pelo serviço prestado.\n",
    "    * **Número da Nota:** O número da nota fiscal.\n",
    "    * **Data de emissão:** A data em que a nota fiscal foi emitida.\n",
    "    * **Valor Total:** O valor total da nota fiscal (bruto).\n",
    "    * **CNPJ do Prestador:** CNPJ de quem emitiu a nota.\n",
    "\n",
    "**Regras de Extração:**\n",
    "\n",
    "* **Precisão é fundamental:** Extraia os valores exatamente como aparecem no documento. Não invente ou infira informações que não estão presentes.\n",
    "* **Formatos:**\n",
    "    * Para valores monetários, extraia o número e formate-o como um `float` (ex: \"R$ 1.500,50\" deve ser extraído como `1500.50`).\n",
    "    * Para CNPJ e CPF, extraia apenas os números.\n",
    "    * Para datas, siga o formato `YYYY-MM-DD`. Se a data no documento estiver em outro formato (ex: DD/MM/YYYY), faça a conversão.\n",
    "* **Ambiguidade:** Se um campo não for encontrado ou se a informação for ambígua, retorne `None` para aquele campo específico. Não tente adivinhar.\n",
    "* **Foco no Conteúdo:** Analise todo o texto extraído do documento para localizar as informações. Ignore elementos de layout, como logos ou tabelas, e foque nos rótulos e nos dados textuais.\n",
    "\n",
    "**Exemplo de Saída:**\n",
    "```\n",
    "{\n",
    "    \"descricao_servico\": \"Consultoria em TI\",\n",
    "    \"valor_servico\": 1500.00,\n",
    "    \"numero_nf\": 123456,\n",
    "    \"data_emissao\": \"2023-10-01\",\n",
    "    \"valor_total\": 1500.00,\n",
    "    \"cnpj\": \"12345678000195\"\n",
    "}\n",
    "\"\"\"\n",
    "\n",
    "agent = Agent(\n",
    "    model=model,\n",
    "    system_prompt=system_prompt,\n",
    "    output_type=ExtracaoOutput\n",
    ")"
   ]
  },
  {
   "cell_type": "code",
   "execution_count": 63,
   "id": "2aca1fcf",
   "metadata": {},
   "outputs": [],
   "source": [
    "resultado = await agent.run(\n",
    "    [BinaryContent(nota_fiscal.read_bytes(), media_type='application/pdf')]\n",
    ")"
   ]
  },
  {
   "cell_type": "code",
   "execution_count": 92,
   "id": "59879e5b",
   "metadata": {},
   "outputs": [
    {
     "name": "stdout",
     "output_type": "stream",
     "text": [
      "{'descricao_servico': 'MENSALIDADE EAD - EDUCAÇÃO SUPERIOR - GRADUAÇÃO E PÓS-GRADUAÇÃO - Ensino regular pré escolar, fundamental, médio e superior.', 'valor_servico': 138.33, 'numero_nf': 4365344, 'data_emissao': datetime.date(2025, 10, 2), 'valor_total': 138.33, 'cnpj': '04986320003139'}\n",
      "{\"descricao_servico\": \"MENSALIDADE EAD - EDUCAÇÃO SUPERIOR - GRADUAÇÃO E PÓS-GRADUAÇÃO - Ensino regular pré escolar, fundamental, médio e superior.\", \"valor_servico\": 138.33, \"numero_nf\": 4365344, \"data_emissao\": \"2025-10-02\", \"valor_total\": 138.33, \"cnpj\": \"04986320003139\"}\n"
     ]
    }
   ],
   "source": [
    "\n",
    "resultado.output.model_dump()\n",
    "resultado_json = json.dumps(resultado.output.model_dump(), default=str, ensure_ascii=False)\n",
    "print(resultado.output.model_dump())\n",
    "print(resultado_json)"
   ]
  },
  {
   "cell_type": "code",
   "execution_count": 93,
   "id": "6d2509de",
   "metadata": {},
   "outputs": [],
   "source": [
    "# Cria a pasta se não existir\n",
    "os.makedirs('registro_de_notas', exist_ok=True)\n",
    "\n",
    "# Monta o nome do arquivo conforme solicitado\n",
    "nome_arquivo = f\"{resultado.output.data_emissao}-{resultado.output.cnpj}-{resultado.output.numero_nf}.json\"\n",
    "caminho_arquivo = os.path.join('registro_de_notas', nome_arquivo)\n",
    "\n",
    "# Salva o resultado_json no arquivo\n",
    "with open(caminho_arquivo, 'w', encoding='utf-8') as f:\n",
    "    f.write(resultado_json)"
   ]
  }
 ],
 "metadata": {
  "kernelspec": {
   "display_name": "Python 3",
   "language": "python",
   "name": "python3"
  },
  "language_info": {
   "codemirror_mode": {
    "name": "ipython",
    "version": 3
   },
   "file_extension": ".py",
   "mimetype": "text/x-python",
   "name": "python",
   "nbconvert_exporter": "python",
   "pygments_lexer": "ipython3",
   "version": "3.13.8"
  }
 },
 "nbformat": 4,
 "nbformat_minor": 5
}
